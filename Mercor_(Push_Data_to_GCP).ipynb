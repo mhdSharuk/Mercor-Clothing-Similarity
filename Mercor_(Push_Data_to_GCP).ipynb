{
  "nbformat": 4,
  "nbformat_minor": 0,
  "metadata": {
    "colab": {
      "provenance": []
    },
    "kernelspec": {
      "name": "python3",
      "display_name": "Python 3"
    },
    "language_info": {
      "name": "python"
    }
  },
  "cells": [
    {
      "cell_type": "code",
      "execution_count": 1,
      "metadata": {
        "id": "_o-CJ0YL-5ZQ"
      },
      "outputs": [],
      "source": [
        "#Install Kaggle (Since the dataset is residing in there)\n",
        "\n",
        "! pip install -q kaggle\n",
        "! mkdir ~/.kaggle\n",
        "! cp kaggle.json ~/.kaggle/\n",
        "! chmod 600 ~/.kaggle/kaggle.json\n",
        "!kaggle datasets download -d msharuk589/mercor-clothing-text-emveddings\n",
        "!unzip mercor-clothing-text-emveddings.zip -d mercor-clothing-text-emveddings"
      ]
    },
    {
      "cell_type": "code",
      "source": [
        "#Fetch the  kaggle dataset and push it into bigquery\n",
        "from google.cloud import bigquery\n",
        "import os\n",
        "\n",
        "os.environ['GOOGLE_APPLICATION_CREDENTIALS'] = 'mercor-387315-804b5f512963.json'\n",
        "table_id = 'mercor-387315.mercor.clothing_description_embeddings_list'\n",
        "file_name = '/content/mercor_clothing_text_embedding_list.csv'\n",
        "\n",
        "client = bigquery.Client()\n",
        "job_config = bigquery.LoadJobConfig(\n",
        "    source_format = bigquery.SourceFormat.CSV, skip_leading_rows=1,\n",
        "    autodetect = True, write_disposition = bigquery.WriteDisposition.WRITE_TRUNCATE\n",
        ")\n",
        "\n",
        "with open(file_name, 'rb') as sf:\n",
        "    job = client.load_table_from_file(sf, table_id, job_config=job_config)\n",
        "job.result()"
      ],
      "metadata": {
        "id": "6WR16vkx_kb1"
      },
      "execution_count": 19,
      "outputs": []
    },
    {
      "cell_type": "code",
      "source": [
        "#Fetching the finished job result\n",
        "table = client.get_table(table_id)\n",
        "print(f'Loaded {table.num_rows} rows and {len(table.schema)} columns')"
      ],
      "metadata": {
        "colab": {
          "base_uri": "https://localhost:8080/"
        },
        "id": "CEc_DgTB_2cn",
        "outputId": "9fc8cc44-cdcc-43de-ebc9-e8daff945ff9"
      },
      "execution_count": 20,
      "outputs": [
        {
          "output_type": "stream",
          "name": "stdout",
          "text": [
            "Loaded 154546 rows and 4 columns\n"
          ]
        }
      ]
    }
  ]
}